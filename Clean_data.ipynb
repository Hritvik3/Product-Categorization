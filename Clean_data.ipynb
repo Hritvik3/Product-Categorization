{
 "cells": [
  {
   "cell_type": "markdown",
   "id": "1e991781",
   "metadata": {},
   "source": [
    "# Cleaning the product description data"
   ]
  },
  {
   "cell_type": "code",
   "execution_count": 13,
   "id": "6a878467",
   "metadata": {},
   "outputs": [],
   "source": [
    "import pandas as pd\n",
    "import string\n",
    "from nltk.corpus import stopwords\n",
    "from nltk.stem import PorterStemmer\n",
    "from nltk.stem import WordNetLemmatizer\n",
    "import nltk"
   ]
  },
  {
   "cell_type": "markdown",
   "id": "7da7fd0e",
   "metadata": {},
   "source": [
    "## Download and import the english stopwords"
   ]
  },
  {
   "cell_type": "code",
   "execution_count": 24,
   "id": "8a0e2a9e",
   "metadata": {},
   "outputs": [
    {
     "name": "stderr",
     "output_type": "stream",
     "text": [
      "[nltk_data] Downloading package stopwords to\n",
      "[nltk_data]     C:\\Users\\hritvik.patwa\\AppData\\Roaming\\nltk_data...\n",
      "[nltk_data]   Package stopwords is already up-to-date!\n",
      "[nltk_data] Downloading package wordnet to\n",
      "[nltk_data]     C:\\Users\\hritvik.patwa\\AppData\\Roaming\\nltk_data...\n"
     ]
    }
   ],
   "source": [
    "nltk.download('stopwords')\n",
    "nltk.download('wordnet')\n",
    "stop = stopwords.words('english')\n",
    "porter = PorterStemmer()\n",
    "wordnet_lemmatizer = WordNetLemmatizer()"
   ]
  },
  {
   "cell_type": "markdown",
   "id": "68078e4e",
   "metadata": {},
   "source": [
    "##### Data extraction and initial cleaning done in Create_data_api file, product description.csv file has only the product type and its description"
   ]
  },
  {
   "cell_type": "code",
   "execution_count": 22,
   "id": "e9a8c8d6",
   "metadata": {},
   "outputs": [],
   "source": [
    "URL_DATA = r'C:\\Users\\hritvik.patwa\\Downloads\\Projects\\Product-Categorization-NLP-master\\data\\products_description.csv'"
   ]
  },
  {
   "cell_type": "markdown",
   "id": "5ae750de",
   "metadata": {},
   "source": [
    "Grouping data to a smaller number of categories"
   ]
  },
  {
   "cell_type": "code",
   "execution_count": 7,
   "id": "09c0b9b3",
   "metadata": {},
   "outputs": [],
   "source": [
    "def grouping_data(df):\n",
    "    \"\"\"Grouping data to a smaller number of categories\"\"\"\n",
    "    df.loc[df['product_type'].isin(['lipstick','lip_liner']),'product_type'] = 'lipstick'\n",
    "    df.loc[df['product_type'].isin(['blush','bronzer']),'product_type'] = 'contour'\n",
    "    df.loc[df['product_type'].isin(['eyeliner','eyeshadow','mascara','eyebrow']),'product_type'] = 'eye_makeup'\n",
    "    return df"
   ]
  },
  {
   "cell_type": "markdown",
   "id": "a7e5561a",
   "metadata": {},
   "source": [
    "Function to remove punctuation\n",
    "The maketrans() method returns a mapping table that can be used with the translate() method to replace specified characters. We are here replacing nothing with nothing (first 2 parameters) and the third parameter is removed from string"
   ]
  },
  {
   "cell_type": "code",
   "execution_count": 9,
   "id": "16d01471",
   "metadata": {},
   "outputs": [],
   "source": [
    "def remove_punctuation(description):\n",
    "    \"\"\"Function to remove punctuation\"\"\"\n",
    "    table = str.maketrans('', '', string.punctuation)\n",
    "    return description.translate(table)"
   ]
  },
  {
   "cell_type": "markdown",
   "id": "108374e7",
   "metadata": {},
   "source": [
    "Function to removing stopwords"
   ]
  },
  {
   "cell_type": "code",
   "execution_count": 12,
   "id": "6689f335",
   "metadata": {},
   "outputs": [],
   "source": [
    "def remove_stopwords(text):\n",
    "    \"\"\"Function to removing stopwords\"\"\"\n",
    "    text = [word.lower() for word in text.split() if word.lower() not in stop]\n",
    "    return \" \".join(text)"
   ]
  },
  {
   "cell_type": "markdown",
   "id": "0bfa2fa8",
   "metadata": {},
   "source": [
    "Function to apply stemming (https://www.guru99.com/stemming-lemmatization-python-nltk.html)"
   ]
  },
  {
   "cell_type": "code",
   "execution_count": 11,
   "id": "8108a1de",
   "metadata": {},
   "outputs": [],
   "source": [
    "def stemmer(stem_text):\n",
    "    \"\"\"Function to apply stemming\"\"\"\n",
    "    stem_text = [porter.stem(word) for word in stem_text.split()]\n",
    "    return \" \".join(stem_text)"
   ]
  },
  {
   "cell_type": "markdown",
   "id": "3a3f374b",
   "metadata": {},
   "source": [
    "Function to apply lemmatization"
   ]
  },
  {
   "cell_type": "code",
   "execution_count": 16,
   "id": "626c15b3",
   "metadata": {},
   "outputs": [],
   "source": [
    "def lemmatizer(lem_text):\n",
    "    \"\"\"Function to apply lemmatization\"\"\"\n",
    "    lem_text = [wordnet_lemmatizer.lemmatize(word) for word in lem_text.split()]\n",
    "    return \" \".join(lem_text)"
   ]
  },
  {
   "cell_type": "code",
   "execution_count": 27,
   "id": "c722fd81",
   "metadata": {},
   "outputs": [],
   "source": [
    "def read_data(path):\n",
    "    \"\"\"Function to read and clean text data\"\"\"\n",
    "    df = pd.read_csv(path, header=0, index_col=0)\n",
    "    data = grouping_data(df)\n",
    "    data['description'] = data['description'].astype(str)\n",
    "    data['description'] = data['description'].apply(remove_punctuation)\n",
    "    data['description'] = data['description'].apply(remove_stopwords)\n",
    "    data['description'] = data['description'].apply(stemmer)\n",
    "    return data"
   ]
  },
  {
   "cell_type": "code",
   "execution_count": 25,
   "id": "5ec1cdcd",
   "metadata": {},
   "outputs": [],
   "source": [
    "dataset = read_data(URL_DATA)"
   ]
  },
  {
   "cell_type": "code",
   "execution_count": 30,
   "id": "9ae94a0d",
   "metadata": {
    "scrolled": true
   },
   "outputs": [],
   "source": [
    "dataset.to_csv('lemmatized_product.csv', index= False, encoding='utf-8')"
   ]
  },
  {
   "cell_type": "code",
   "execution_count": 28,
   "id": "93137dc2",
   "metadata": {},
   "outputs": [],
   "source": [
    "dataset2 = read_data(URL_DATA)"
   ]
  },
  {
   "cell_type": "code",
   "execution_count": 31,
   "id": "d90f4034",
   "metadata": {},
   "outputs": [],
   "source": [
    "dataset2.to_csv('stemmed_product.csv', index= False, encoding='utf-8')"
   ]
  },
  {
   "cell_type": "code",
   "execution_count": null,
   "id": "73ca6ced",
   "metadata": {},
   "outputs": [],
   "source": []
  }
 ],
 "metadata": {
  "kernelspec": {
   "display_name": "Python 3 (ipykernel)",
   "language": "python",
   "name": "python3"
  },
  "language_info": {
   "codemirror_mode": {
    "name": "ipython",
    "version": 3
   },
   "file_extension": ".py",
   "mimetype": "text/x-python",
   "name": "python",
   "nbconvert_exporter": "python",
   "pygments_lexer": "ipython3",
   "version": "3.9.5"
  }
 },
 "nbformat": 4,
 "nbformat_minor": 5
}
