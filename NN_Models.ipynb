{
 "cells": [
  {
   "cell_type": "markdown",
   "metadata": {
    "id": "VyBoRfFt1OFE"
   },
   "source": [
    "## **Multi-Class Text Classification for make-up products by using Neural Networks**\n",
    "\n",
    "In this project, we used Neural Network and Convolutional Neural Netwok to the text classification. In our analysis we used Keras framework. "
   ]
  },
  {
   "cell_type": "code",
   "execution_count": 1,
   "metadata": {
    "id": "KfS8veRQ3_qg"
   },
   "outputs": [
    {
     "name": "stderr",
     "output_type": "stream",
     "text": [
      "C:\\Users\\hritvik.patwa\\AppData\\Roaming\\Python\\Python39\\site-packages\\requests\\__init__.py:102: RequestsDependencyWarning: urllib3 (1.26.7) or chardet (5.0.0)/charset_normalizer (2.0.6) doesn't match a supported version!\n",
      "  warnings.warn(\"urllib3 ({}) or chardet ({})/charset_normalizer ({}) doesn't match a supported \"\n"
     ]
    }
   ],
   "source": [
    "import numpy as np\n",
    "import pandas as pd\n",
    "import matplotlib.pyplot as plt\n",
    "%matplotlib inline\n",
    "\n",
    "from sklearn.model_selection import train_test_split\n",
    "from sklearn.preprocessing import LabelBinarizer, LabelEncoder\n",
    "from sklearn.metrics import confusion_matrix\n",
    "from keras.metrics.\n",
    "\n",
    "import tensorflow as tf\n",
    "from tensorflow import keras\n",
    "from keras.models import Sequential\n",
    "from keras.layers import Dense, Flatten, Activation, Dropout, GlobalMaxPool1D, Conv1D\n",
    "from tensorflow.keras.layers import Embedding\n",
    "from keras.preprocessing import text, sequence\n",
    "from keras.preprocessing.text import Tokenizer\n",
    "from tensorflow.keras.preprocessing.sequence import pad_sequences\n",
    "from keras import utils\n"
   ]
  },
  {
   "cell_type": "code",
   "execution_count": 2,
   "metadata": {
    "colab": {
     "base_uri": "https://localhost:8080/",
     "height": 204
    },
    "id": "FgbjCnBU80JM",
    "outputId": "909a18ea-d915-4486-87a5-ad02301f92fd"
   },
   "outputs": [
    {
     "data": {
      "text/html": [
       "<div>\n",
       "<style scoped>\n",
       "    .dataframe tbody tr th:only-of-type {\n",
       "        vertical-align: middle;\n",
       "    }\n",
       "\n",
       "    .dataframe tbody tr th {\n",
       "        vertical-align: top;\n",
       "    }\n",
       "\n",
       "    .dataframe thead th {\n",
       "        text-align: right;\n",
       "    }\n",
       "</style>\n",
       "<table border=\"1\" class=\"dataframe\">\n",
       "  <thead>\n",
       "    <tr style=\"text-align: right;\">\n",
       "      <th></th>\n",
       "      <th>product_type</th>\n",
       "      <th>description</th>\n",
       "    </tr>\n",
       "  </thead>\n",
       "  <tbody>\n",
       "    <tr>\n",
       "      <th>0</th>\n",
       "      <td>lipstic</td>\n",
       "      <td>lippie pencil long wearing high intensity lip ...</td>\n",
       "    </tr>\n",
       "    <tr>\n",
       "      <th>1</th>\n",
       "      <td>lipstic</td>\n",
       "      <td>blotted lip sheer matte lipstick creates perfe...</td>\n",
       "    </tr>\n",
       "    <tr>\n",
       "      <th>2</th>\n",
       "      <td>lipstic</td>\n",
       "      <td>lippie stix formula contains vitamin e mango a...</td>\n",
       "    </tr>\n",
       "    <tr>\n",
       "      <th>3</th>\n",
       "      <td>foundation</td>\n",
       "      <td>developed selfie age buildable full coverage n...</td>\n",
       "    </tr>\n",
       "    <tr>\n",
       "      <th>4</th>\n",
       "      <td>lipstic</td>\n",
       "      <td>product free lead heavy metal parabens phthala...</td>\n",
       "    </tr>\n",
       "  </tbody>\n",
       "</table>\n",
       "</div>"
      ],
      "text/plain": [
       "  product_type                                        description\n",
       "0      lipstic  lippie pencil long wearing high intensity lip ...\n",
       "1      lipstic  blotted lip sheer matte lipstick creates perfe...\n",
       "2      lipstic  lippie stix formula contains vitamin e mango a...\n",
       "3   foundation  developed selfie age buildable full coverage n...\n",
       "4      lipstic  product free lead heavy metal parabens phthala..."
      ]
     },
     "execution_count": 2,
     "metadata": {},
     "output_type": "execute_result"
    }
   ],
   "source": [
    "df = pd.read_csv(r'data/products_clean.csv', header=0,index_col=0)\n",
    "df.head()"
   ]
  },
  {
   "cell_type": "code",
   "execution_count": 3,
   "metadata": {
    "colab": {
     "base_uri": "https://localhost:8080/",
     "height": 34
    },
    "id": "dzNQio4V80EN",
    "outputId": "f6ce7ddc-fdde-4767-fc0a-0c77f9474fc7"
   },
   "outputs": [
    {
     "data": {
      "text/plain": [
       "(906, 2)"
      ]
     },
     "execution_count": 3,
     "metadata": {},
     "output_type": "execute_result"
    }
   ],
   "source": [
    "df.shape"
   ]
  },
  {
   "cell_type": "markdown",
   "metadata": {
    "id": "W9rKGKpSBiZh"
   },
   "source": [
    "Spliting the data into train and test sets:"
   ]
  },
  {
   "cell_type": "code",
   "execution_count": 4,
   "metadata": {
    "id": "IkHqZeEH8z90"
   },
   "outputs": [],
   "source": [
    "sentences = df['description']\n",
    "y = df['product_type']\n",
    "\n",
    "sentences_train, sentences_test, train_y, test_y = train_test_split(sentences, y, test_size=0.25, random_state=42)"
   ]
  },
  {
   "cell_type": "markdown",
   "metadata": {
    "id": "3QAGoEuMFzdb"
   },
   "source": [
    "**Word Embeddings**\n",
    "\n",
    "Word Embedding is a representation of text where words that have the same meaning have a similar representation. It shows words in a coordinate system where related words, based on a corpus of relationships, are placed closer together. In the deep learning frameworks such as  Keras, this part is generally handled by an embedding layer."
   ]
  },
  {
   "cell_type": "code",
   "execution_count": 42,
   "metadata": {
    "colab": {
     "base_uri": "https://localhost:8080/",
     "height": 51
    },
    "id": "gKMCfclv8z3D",
    "outputId": "95bb57c8-0b98-455d-928e-3d3f7a372a19"
   },
   "outputs": [
    {
     "name": "stdout",
     "output_type": "stream",
     "text": [
      "lippie stix formula contains vitamin e mango avocado shea butter added comfort moisture none lippie formula contain nasty ingredient like parabens sulfate\n",
      "[55, 358, 162, 810, 22, 121, 117, 500, 22, 198, 265, 4, 194, 14, 272, 321, 698, 218, 214, 596, 402, 597, 84, 93, 632, 288, 296, 237, 413]\n"
     ]
    }
   ],
   "source": [
    "tokenize = Tokenizer(num_words=1000)\n",
    "tokenize.fit_on_texts(sentences_train)\n",
    "\n",
    "X_train = tokenize.texts_to_sequences(sentences_train)\n",
    "X_test = tokenize.texts_to_sequences(sentences_test)\n",
    "\n",
    "vocab_size = len(tokenize.word_index) + 1  \n",
    "\n",
    "print(sentences_train[2])\n",
    "print(X_train[2])"
   ]
  },
  {
   "cell_type": "code",
   "execution_count": 44,
   "metadata": {
    "colab": {
     "base_uri": "https://localhost:8080/",
     "height": 119
    },
    "id": "GZKPGXLlCADP",
    "outputId": "e399dc65-8fa4-4d00-a647-6de88fadffac"
   },
   "outputs": [
    {
     "name": "stdout",
     "output_type": "stream",
     "text": [
      "[ 55 358 162 810  22 121 117 500  22 198 265   4 194  14 272 321 698 218\n",
      " 214 596 402 597  84  93 632 288 296 237 413   0   0   0   0   0   0   0\n",
      "   0   0   0   0   0   0   0   0   0   0   0   0   0   0   0   0   0   0\n",
      "   0   0   0   0   0   0   0   0   0   0   0   0   0   0   0   0   0   0\n",
      "   0   0   0   0   0   0   0   0   0   0   0   0   0   0   0   0   0   0\n",
      "   0   0   0   0   0   0   0   0   0   0]\n"
     ]
    }
   ],
   "source": [
    "maxlen = 100\n",
    "\n",
    "X_train = pad_sequences(X_train, padding='post', maxlen=maxlen)\n",
    "X_test = pad_sequences(X_test, padding='post', maxlen=maxlen)\n",
    "\n",
    "print(X_train[2, :])"
   ]
  },
  {
   "cell_type": "code",
   "execution_count": 45,
   "metadata": {
    "id": "GhK21EV2I9VQ"
   },
   "outputs": [],
   "source": [
    "encoder = LabelEncoder()\n",
    "encoder.fit(train_y)\n",
    "y_train = encoder.transform(train_y)\n",
    "y_test = encoder.transform(test_y)\n",
    "\n",
    "num_classes = np.max(y_train) + 1\n",
    "y_train = utils.to_categorical(y_train, num_classes)\n",
    "y_test = utils.to_categorical(y_test, num_classes)"
   ]
  },
  {
   "cell_type": "markdown",
   "metadata": {
    "id": "QKAWaiZuHjm6"
   },
   "source": [
    "**Building the neural network model**\n",
    "\n",
    "We built and trained a several models to choose best of them. First of them is a simple neural network model."
   ]
  },
  {
   "cell_type": "code",
   "execution_count": null,
   "metadata": {},
   "outputs": [],
   "source": []
  },
  {
   "cell_type": "code",
   "execution_count": 50,
   "metadata": {
    "colab": {
     "base_uri": "https://localhost:8080/",
     "height": 289
    },
    "id": "Kcaj0Pp2CANk",
    "outputId": "caa48c5c-cee5-48cc-f0b8-f079c9130b6b"
   },
   "outputs": [
    {
     "name": "stdout",
     "output_type": "stream",
     "text": [
      "Model: \"sequential_6\"\n",
      "_________________________________________________________________\n",
      " Layer (type)                Output Shape              Param #   \n",
      "=================================================================\n",
      " embedding_6 (Embedding)     (None, 100, 16)           72304     \n",
      "                                                                 \n",
      " flatten_3 (Flatten)         (None, 1600)              0         \n",
      "                                                                 \n",
      " dense_12 (Dense)            (None, 16)                25616     \n",
      "                                                                 \n",
      " dense_13 (Dense)            (None, 5)                 85        \n",
      "                                                                 \n",
      "=================================================================\n",
      "Total params: 98,005\n",
      "Trainable params: 98,005\n",
      "Non-trainable params: 0\n",
      "_________________________________________________________________\n"
     ]
    }
   ],
   "source": [
    "embedding_dim = 16\n",
    "\n",
    "model = Sequential()\n",
    "model.add(Embedding(input_dim=vocab_size, output_dim=embedding_dim, input_length=maxlen))\n",
    "model.add(Flatten())\n",
    "model.add(Dense(16, activation='relu'))\n",
    "model.add(Dense(5, activation='softmax'))\n",
    "\n",
    "model.compile(optimizer='adam',\n",
    "              loss='categorical_crossentropy',\n",
    "              metrics=['accuracy'])\n",
    "model.summary()\n"
   ]
  },
  {
   "cell_type": "code",
   "execution_count": 51,
   "metadata": {
    "colab": {
     "base_uri": "https://localhost:8080/",
     "height": 533
    },
    "id": "yXEsYFuNYnJT",
    "outputId": "ae9cd484-699e-42f0-b9d0-5cb595a32700",
    "scrolled": true
   },
   "outputs": [
    {
     "data": {
      "image/png": "[encoded data removed]",
      "text/plain": [
       "<IPython.core.display.Image object>"
      ]
     },
     "execution_count": 51,
     "metadata": {},
     "output_type": "execute_result"
    }
   ],
   "source": [
    "from keras.utils import plot_model\n",
    "plot_model(model, to_file='model_1.png', show_shapes=True, show_layer_names=True)"
   ]
  },
  {
   "cell_type": "code",
   "execution_count": 11,
   "metadata": {
    "colab": {
     "base_uri": "https://localhost:8080/",
     "height": 527
    },
    "id": "roe26IFLCAJk",
    "outputId": "7400fe18-5b23-4db0-c2e3-353beaa25fb8"
   },
   "outputs": [
    {
     "name": "stdout",
     "output_type": "stream",
     "text": [
      "Epoch 1/15\n",
      "22/22 [==============================] - 0s 7ms/step - loss: 0.0423 - accuracy: 0.9971 - val_loss: 0.2960 - val_accuracy: 0.8987\n",
      "Epoch 2/15\n",
      "22/22 [==============================] - 0s 4ms/step - loss: 0.0357 - accuracy: 0.9985 - val_loss: 0.2896 - val_accuracy: 0.9075\n",
      "Epoch 3/15\n",
      "22/22 [==============================] - 0s 5ms/step - loss: 0.0299 - accuracy: 0.9971 - val_loss: 0.2817 - val_accuracy: 0.8943\n",
      "Epoch 4/15\n",
      "22/22 [==============================] - 0s 4ms/step - loss: 0.0262 - accuracy: 0.9985 - val_loss: 0.2794 - val_accuracy: 0.9075\n",
      "Epoch 5/15\n",
      "22/22 [==============================] - 0s 4ms/step - loss: 0.0226 - accuracy: 0.9971 - val_loss: 0.2753 - val_accuracy: 0.9031\n",
      "Epoch 6/15\n",
      "22/22 [==============================] - 0s 5ms/step - loss: 0.0202 - accuracy: 0.9971 - val_loss: 0.2720 - val_accuracy: 0.9075\n",
      "Epoch 7/15\n",
      "22/22 [==============================] - 0s 4ms/step - loss: 0.0178 - accuracy: 0.9971 - val_loss: 0.2705 - val_accuracy: 0.9031\n",
      "Epoch 8/15\n",
      "22/22 [==============================] - 0s 5ms/step - loss: 0.0154 - accuracy: 0.9985 - val_loss: 0.2727 - val_accuracy: 0.9031\n",
      "Epoch 9/15\n",
      "22/22 [==============================] - 0s 5ms/step - loss: 0.0152 - accuracy: 0.9985 - val_loss: 0.2674 - val_accuracy: 0.9075\n",
      "Epoch 10/15\n",
      "22/22 [==============================] - 0s 4ms/step - loss: 0.0136 - accuracy: 0.9971 - val_loss: 0.2681 - val_accuracy: 0.9119\n",
      "Epoch 11/15\n",
      "22/22 [==============================] - 0s 4ms/step - loss: 0.0122 - accuracy: 0.9985 - val_loss: 0.2651 - val_accuracy: 0.9119\n",
      "Epoch 12/15\n",
      "22/22 [==============================] - 0s 4ms/step - loss: 0.0118 - accuracy: 0.9985 - val_loss: 0.2669 - val_accuracy: 0.9119\n",
      "Epoch 13/15\n",
      "22/22 [==============================] - 0s 5ms/step - loss: 0.0116 - accuracy: 0.9985 - val_loss: 0.2652 - val_accuracy: 0.9119\n",
      "Epoch 14/15\n",
      "22/22 [==============================] - 0s 5ms/step - loss: 0.0089 - accuracy: 0.9985 - val_loss: 0.2646 - val_accuracy: 0.9075\n",
      "Epoch 15/15\n",
      "22/22 [==============================] - 0s 5ms/step - loss: 0.0110 - accuracy: 0.9985 - val_loss: 0.2649 - val_accuracy: 0.9119\n"
     ]
    }
   ],
   "source": [
    "history = model.fit(X_train, y_train,\n",
    "                    batch_size=32,\n",
    "                    epochs=15,\n",
    "                    validation_data=(X_test, y_test))"
   ]
  },
  {
   "cell_type": "code",
   "execution_count": 12,
   "metadata": {
    "colab": {
     "base_uri": "https://localhost:8080/",
     "height": 51
    },
    "id": "Vf2choBvCAIA",
    "outputId": "85c5b7d9-9c70-43d6-b883-831da8350195"
   },
   "outputs": [
    {
     "name": "stdout",
     "output_type": "stream",
     "text": [
      "Training Accuracy: 0.9985\n",
      "Testing Accuracy:  0.9119\n"
     ]
    }
   ],
   "source": [
    "loss, accuracy = model.evaluate(X_train, y_train, verbose=False)\n",
    "print(\"Training Accuracy: {:.4f}\".format(accuracy))\n",
    "loss, accuracy = model.evaluate(X_test, y_test, verbose=False)\n",
    "print(\"Testing Accuracy:  {:.4f}\".format(accuracy))"
   ]
  },
  {
   "cell_type": "code",
   "execution_count": 13,
   "metadata": {
    "colab": {
     "base_uri": "https://localhost:8080/",
     "height": 541
    },
    "id": "EG835YuIB__f",
    "outputId": "636b562b-338c-4ccc-d175-d3020183af8b"
   },
   "outputs": [
    {
     "data": {
      "image/png": "[encoded data removed]",
      "text/plain": [
       "<Figure size 432x288 with 1 Axes>"
      ]
     },
     "metadata": {
      "needs_background": "light"
     },
     "output_type": "display_data"
    },
    {
     "data": {
      "image/png": "[encoded data removed]",
      "text/plain": [
       "<Figure size 432x288 with 1 Axes>"
      ]
     },
     "metadata": {
      "needs_background": "light"
     },
     "output_type": "display_data"
    }
   ],
   "source": [
    "def plot_graphs(history, string):\n",
    "    plt.plot(history.history[string])\n",
    "    plt.plot(history.history['val_'+string])\n",
    "    plt.xlabel(\"Epochs\")\n",
    "    plt.ylabel(string)\n",
    "    plt.legend([string, 'val_'+string])\n",
    "    plt.show()\n",
    "\n",
    "plot_graphs(history, \"accuracy\")\n",
    "plot_graphs(history, \"loss\")"
   ]
  },
  {
   "cell_type": "markdown",
   "metadata": {
    "id": "eBlERERxQx3D"
   },
   "source": [
    " At the end of the training, we can see that there is a little bit overfitting. \n",
    " \n",
    " Now we add dropout layers as a method of regularization."
   ]
  },
  {
   "cell_type": "code",
   "execution_count": 14,
   "metadata": {
    "colab": {
     "base_uri": "https://localhost:8080/",
     "height": 323
    },
    "id": "jfDsrM1uNkXF",
    "outputId": "68eb05b2-d20d-4175-be9f-dac2da555cd4"
   },
   "outputs": [
    {
     "name": "stdout",
     "output_type": "stream",
     "text": [
      "Model: \"sequential_1\"\n",
      "_________________________________________________________________\n",
      " Layer (type)                Output Shape              Param #   \n",
      "=================================================================\n",
      " embedding_1 (Embedding)     (None, 100, 16)           72304     \n",
      "                                                                 \n",
      " flatten_1 (Flatten)         (None, 1600)              0         \n",
      "                                                                 \n",
      " dense_2 (Dense)             (None, 16)                25616     \n",
      "                                                                 \n",
      " dropout (Dropout)           (None, 16)                0         \n",
      "                                                                 \n",
      " dense_3 (Dense)             (None, 5)                 85        \n",
      "                                                                 \n",
      "=================================================================\n",
      "Total params: 98,005\n",
      "Trainable params: 98,005\n",
      "Non-trainable params: 0\n",
      "_________________________________________________________________\n"
     ]
    }
   ],
   "source": [
    "model2 = Sequential()\n",
    "model2.add(Embedding(input_dim=vocab_size, output_dim=embedding_dim, input_length=maxlen))\n",
    "model2.add(Flatten())\n",
    "model2.add(Dense(16, activation='relu'))\n",
    "model2.add(Dropout(0.5))\n",
    "model2.add(Dense(5, activation='softmax'))\n",
    "\n",
    "model2.compile(optimizer='adam',\n",
    "              loss='categorical_crossentropy',\n",
    "              metrics=['accuracy'])\n",
    "model2.summary()"
   ]
  },
  {
   "cell_type": "code",
   "execution_count": 15,
   "metadata": {
    "colab": {
     "base_uri": "https://localhost:8080/",
     "height": 527
    },
    "id": "ZTgUrOswNkK5",
    "outputId": "5312da97-a1e3-4cd0-fd16-ca596b398f8f"
   },
   "outputs": [
    {
     "name": "stdout",
     "output_type": "stream",
     "text": [
      "Epoch 1/15\n",
      "22/22 [==============================] - 1s 12ms/step - loss: 1.5651 - accuracy: 0.3328 - val_loss: 1.4693 - val_accuracy: 0.4758\n",
      "Epoch 2/15\n",
      "22/22 [==============================] - 0s 4ms/step - loss: 1.5003 - accuracy: 0.4050 - val_loss: 1.4411 - val_accuracy: 0.4846\n",
      "Epoch 3/15\n",
      "22/22 [==============================] - 0s 4ms/step - loss: 1.4806 - accuracy: 0.4153 - val_loss: 1.4385 - val_accuracy: 0.4890\n",
      "Epoch 4/15\n",
      "22/22 [==============================] - 0s 5ms/step - loss: 1.4244 - accuracy: 0.4109 - val_loss: 1.3835 - val_accuracy: 0.4978\n",
      "Epoch 5/15\n",
      "22/22 [==============================] - 0s 4ms/step - loss: 1.3674 - accuracy: 0.4521 - val_loss: 1.3502 - val_accuracy: 0.5286\n",
      "Epoch 6/15\n",
      "22/22 [==============================] - 0s 5ms/step - loss: 1.2470 - accuracy: 0.5155 - val_loss: 1.2178 - val_accuracy: 0.5463\n",
      "Epoch 7/15\n",
      "22/22 [==============================] - 0s 5ms/step - loss: 1.1212 - accuracy: 0.5832 - val_loss: 1.0937 - val_accuracy: 0.6784\n",
      "Epoch 8/15\n",
      "22/22 [==============================] - 0s 5ms/step - loss: 0.9486 - accuracy: 0.6834 - val_loss: 0.9293 - val_accuracy: 0.7137\n",
      "Epoch 9/15\n",
      "22/22 [==============================] - 0s 4ms/step - loss: 0.8173 - accuracy: 0.7202 - val_loss: 0.7857 - val_accuracy: 0.7930\n",
      "Epoch 10/15\n",
      "22/22 [==============================] - 0s 4ms/step - loss: 0.6744 - accuracy: 0.8159 - val_loss: 0.6589 - val_accuracy: 0.8370\n",
      "Epoch 11/15\n",
      "22/22 [==============================] - 0s 5ms/step - loss: 0.5880 - accuracy: 0.7968 - val_loss: 0.5733 - val_accuracy: 0.8634\n",
      "Epoch 12/15\n",
      "22/22 [==============================] - 0s 5ms/step - loss: 0.4953 - accuracy: 0.8733 - val_loss: 0.5158 - val_accuracy: 0.8546\n",
      "Epoch 13/15\n",
      "22/22 [==============================] - 0s 6ms/step - loss: 0.4171 - accuracy: 0.8837 - val_loss: 0.4560 - val_accuracy: 0.8855\n",
      "Epoch 14/15\n",
      "22/22 [==============================] - 0s 5ms/step - loss: 0.4040 - accuracy: 0.8733 - val_loss: 0.4237 - val_accuracy: 0.8855\n",
      "Epoch 15/15\n",
      "22/22 [==============================] - 0s 5ms/step - loss: 0.3427 - accuracy: 0.9013 - val_loss: 0.3865 - val_accuracy: 0.8987\n"
     ]
    }
   ],
   "source": [
    "history_two = model2.fit(X_train, y_train,\n",
    "                        batch_size=32,\n",
    "                        epochs=15,\n",
    "                        validation_data=(X_test, y_test))"
   ]
  },
  {
   "cell_type": "code",
   "execution_count": 16,
   "metadata": {
    "colab": {
     "base_uri": "https://localhost:8080/",
     "height": 51
    },
    "id": "AZyc27y8HPFR",
    "outputId": "c26c18a9-1401-4669-d2dd-4da5cb4a0c2b"
   },
   "outputs": [
    {
     "name": "stdout",
     "output_type": "stream",
     "text": [
      "Training Accuracy: 0.9867\n",
      "Testing Accuracy:  0.8987\n"
     ]
    }
   ],
   "source": [
    "loss, accuracy = model2.evaluate(X_train, y_train, verbose=False)\n",
    "print(\"Training Accuracy: {:.4f}\".format(accuracy))\n",
    "loss, accuracy = model2.evaluate(X_test, y_test, verbose=False)\n",
    "print(\"Testing Accuracy:  {:.4f}\".format(accuracy))"
   ]
  },
  {
   "cell_type": "code",
   "execution_count": 17,
   "metadata": {
    "colab": {
     "base_uri": "https://localhost:8080/",
     "height": 548
    },
    "id": "rh4E6tJFHPDj",
    "outputId": "689efc61-27b2-42b3-f8f3-fdb19a8a8a14"
   },
   "outputs": [
    {
     "data": {
      "image/png": "[encoded data removed]",
      "text/plain": [
       "<Figure size 432x288 with 1 Axes>"
      ]
     },
     "metadata": {
      "needs_background": "light"
     },
     "output_type": "display_data"
    },
    {
     "data": {
      "image/png": "[encoded data removed]",
      "text/plain": [
       "<Figure size 432x288 with 1 Axes>"
      ]
     },
     "metadata": {
      "needs_background": "light"
     },
     "output_type": "display_data"
    }
   ],
   "source": [
    "plot_graphs(history_two, \"accuracy\")\n",
    "plot_graphs(history_two, \"loss\")"
   ]
  },
  {
   "cell_type": "markdown",
   "metadata": {
    "id": "QehmKOWISfPM"
   },
   "source": [
    "Another way to work with embeddings is by using a MaxPooling1D/AveragePooling1D or a GlobalMaxPooling1D/GlobalAveragePooling1D layer after the embedding. \n",
    "\n",
    "In this case we used GlobalMaxPooling1D which is built-in layer Keras and we can add it to the sequential model:"
   ]
  },
  {
   "cell_type": "code",
   "execution_count": 18,
   "metadata": {
    "colab": {
     "base_uri": "https://localhost:8080/",
     "height": 289
    },
    "id": "odWssW7shNFH",
    "outputId": "dd4de5dd-14a4-4814-ed2e-f847031c4bab"
   },
   "outputs": [
    {
     "name": "stdout",
     "output_type": "stream",
     "text": [
      "Model: \"sequential_2\"\n",
      "_________________________________________________________________\n",
      " Layer (type)                Output Shape              Param #   \n",
      "=================================================================\n",
      " embedding_2 (Embedding)     (None, 100, 50)           225950    \n",
      "                                                                 \n",
      " global_max_pooling1d (Globa  (None, 50)               0         \n",
      " lMaxPooling1D)                                                  \n",
      "                                                                 \n",
      " dense_4 (Dense)             (None, 16)                816       \n",
      "                                                                 \n",
      " dense_5 (Dense)             (None, 5)                 85        \n",
      "                                                                 \n",
      "=================================================================\n",
      "Total params: 226,851\n",
      "Trainable params: 226,851\n",
      "Non-trainable params: 0\n",
      "_________________________________________________________________\n"
     ]
    }
   ],
   "source": [
    "embedding_dim = 50\n",
    "\n",
    "model3 = Sequential()\n",
    "model3.add(Embedding(input_dim=vocab_size, output_dim=embedding_dim, input_length=maxlen))\n",
    "model3.add(GlobalMaxPool1D())\n",
    "model3.add(Dense(16, activation='relu'))\n",
    "model3.add(Dense(5, activation='softmax'))\n",
    "\n",
    "model3.compile(optimizer='adam',\n",
    "               loss='categorical_crossentropy',\n",
    "               metrics=['accuracy'])\n",
    "\n",
    "model3.summary()"
   ]
  },
  {
   "cell_type": "code",
   "execution_count": 19,
   "metadata": {
    "colab": {
     "base_uri": "https://localhost:8080/",
     "height": 527
    },
    "id": "4odNmbvthM6z",
    "outputId": "863c26a8-1cb5-4f17-8589-66c3062d7432"
   },
   "outputs": [
    {
     "name": "stdout",
     "output_type": "stream",
     "text": [
      "Epoch 1/15\n",
      "22/22 [==============================] - 1s 14ms/step - loss: 1.5844 - accuracy: 0.3844 - val_loss: 1.5405 - val_accuracy: 0.4670\n",
      "Epoch 2/15\n",
      "22/22 [==============================] - 0s 7ms/step - loss: 1.5296 - accuracy: 0.3844 - val_loss: 1.4733 - val_accuracy: 0.4670\n",
      "Epoch 3/15\n",
      "22/22 [==============================] - 0s 8ms/step - loss: 1.4685 - accuracy: 0.3844 - val_loss: 1.3937 - val_accuracy: 0.4670\n",
      "Epoch 4/15\n",
      "22/22 [==============================] - 0s 7ms/step - loss: 1.3990 - accuracy: 0.3844 - val_loss: 1.3165 - val_accuracy: 0.4670\n",
      "Epoch 5/15\n",
      "22/22 [==============================] - 0s 7ms/step - loss: 1.3141 - accuracy: 0.3859 - val_loss: 1.2221 - val_accuracy: 0.4714\n",
      "Epoch 6/15\n",
      "22/22 [==============================] - 0s 7ms/step - loss: 1.2017 - accuracy: 0.4566 - val_loss: 1.1088 - val_accuracy: 0.5463\n",
      "Epoch 7/15\n",
      "22/22 [==============================] - 0s 7ms/step - loss: 1.0633 - accuracy: 0.6082 - val_loss: 0.9844 - val_accuracy: 0.6476\n",
      "Epoch 8/15\n",
      "22/22 [==============================] - 0s 8ms/step - loss: 0.9184 - accuracy: 0.7069 - val_loss: 0.8582 - val_accuracy: 0.7181\n",
      "Epoch 9/15\n",
      "22/22 [==============================] - 0s 7ms/step - loss: 0.7742 - accuracy: 0.8100 - val_loss: 0.7427 - val_accuracy: 0.8502\n",
      "Epoch 10/15\n",
      "22/22 [==============================] - 0s 8ms/step - loss: 0.6366 - accuracy: 0.8925 - val_loss: 0.6369 - val_accuracy: 0.8855\n",
      "Epoch 11/15\n",
      "22/22 [==============================] - 0s 9ms/step - loss: 0.5152 - accuracy: 0.9411 - val_loss: 0.5419 - val_accuracy: 0.8987\n",
      "Epoch 12/15\n",
      "22/22 [==============================] - 0s 7ms/step - loss: 0.4123 - accuracy: 0.9529 - val_loss: 0.4672 - val_accuracy: 0.9031\n",
      "Epoch 13/15\n",
      "22/22 [==============================] - 0s 8ms/step - loss: 0.3288 - accuracy: 0.9661 - val_loss: 0.4082 - val_accuracy: 0.9163\n",
      "Epoch 14/15\n",
      "22/22 [==============================] - 0s 7ms/step - loss: 0.2642 - accuracy: 0.9735 - val_loss: 0.3588 - val_accuracy: 0.9295\n",
      "Epoch 15/15\n",
      "22/22 [==============================] - 0s 7ms/step - loss: 0.2130 - accuracy: 0.9764 - val_loss: 0.3252 - val_accuracy: 0.9295\n"
     ]
    }
   ],
   "source": [
    "history_3 = model3.fit(X_train, y_train,\n",
    "                       batch_size=32,\n",
    "                       epochs=15,\n",
    "                       validation_data=(X_test, y_test))"
   ]
  },
  {
   "cell_type": "code",
   "execution_count": 20,
   "metadata": {
    "colab": {
     "base_uri": "https://localhost:8080/",
     "height": 51
    },
    "id": "k5rwoZO6h5UW",
    "outputId": "abeb7f17-2fec-46bb-ded1-8d7cb67dca34"
   },
   "outputs": [
    {
     "name": "stdout",
     "output_type": "stream",
     "text": [
      "Training Accuracy: 0.9809\n",
      "Testing Accuracy:  0.9295\n"
     ]
    }
   ],
   "source": [
    "loss, accuracy = model3.evaluate(X_train, y_train, verbose=False)\n",
    "print(\"Training Accuracy: {:.4f}\".format(accuracy))\n",
    "loss, accuracy = model3.evaluate(X_test, y_test, verbose=False)\n",
    "print(\"Testing Accuracy:  {:.4f}\".format(accuracy))"
   ]
  },
  {
   "cell_type": "code",
   "execution_count": 21,
   "metadata": {
    "colab": {
     "base_uri": "https://localhost:8080/",
     "height": 545
    },
    "id": "gZRVXaW1h9Jc",
    "outputId": "3ff62d04-8e44-4a08-b558-96a3318a03c6"
   },
   "outputs": [
    {
     "data": {
      "image/png": "[encoded data removed]",
      "text/plain": [
       "<Figure size 432x288 with 1 Axes>"
      ]
     },
     "metadata": {
      "needs_background": "light"
     },
     "output_type": "display_data"
    },
    {
     "data": {
      "image/png": "[encoded data removed]",
      "text/plain": [
       "<Figure size 432x288 with 1 Axes>"
      ]
     },
     "metadata": {
      "needs_background": "light"
     },
     "output_type": "display_data"
    }
   ],
   "source": [
    "plot_graphs(history_3, \"accuracy\")\n",
    "plot_graphs(history_3, \"loss\")"
   ]
  },
  {
   "cell_type": "markdown",
   "metadata": {},
   "source": [
    "#### Final Neural Network model\n",
    "\n",
    "Our final Neural Network consist of an Embedding layer with GlobalMaxPool1D layer, hidden layer using the ReLU activation function. The output layer using the softmax activation function. We also used dropout layers as a method of regularization.\n",
    "We used the Adam optimizer and categorical cross entropy loss as the loss function."
   ]
  },
  {
   "cell_type": "code",
   "execution_count": 22,
   "metadata": {
    "colab": {
     "base_uri": "https://localhost:8080/",
     "height": 357
    },
    "id": "6TEBDh_LSdfx",
    "outputId": "674ec372-d0fa-45c6-9c77-f30251d3c9c1"
   },
   "outputs": [
    {
     "name": "stdout",
     "output_type": "stream",
     "text": [
      "Model: \"sequential_3\"\n",
      "_________________________________________________________________\n",
      " Layer (type)                Output Shape              Param #   \n",
      "=================================================================\n",
      " embedding_3 (Embedding)     (None, 100, 50)           225950    \n",
      "                                                                 \n",
      " global_max_pooling1d_1 (Glo  (None, 50)               0         \n",
      " balMaxPooling1D)                                                \n",
      "                                                                 \n",
      " dropout_1 (Dropout)         (None, 50)                0         \n",
      "                                                                 \n",
      " dense_6 (Dense)             (None, 16)                816       \n",
      "                                                                 \n",
      " dropout_2 (Dropout)         (None, 16)                0         \n",
      "                                                                 \n",
      " dense_7 (Dense)             (None, 5)                 85        \n",
      "                                                                 \n",
      "=================================================================\n",
      "Total params: 226,851\n",
      "Trainable params: 226,851\n",
      "Non-trainable params: 0\n",
      "_________________________________________________________________\n"
     ]
    }
   ],
   "source": [
    "embedding_dim = 50\n",
    "\n",
    "model4 = Sequential()\n",
    "model4.add(Embedding(input_dim=vocab_size, output_dim=embedding_dim, input_length=maxlen))\n",
    "model4.add(GlobalMaxPool1D())\n",
    "model4.add(Dropout(0.2))\n",
    "model4.add(Dense(16, activation='relu'))\n",
    "model4.add(Dropout(0.2))\n",
    "model4.add(Dense(5, activation='softmax'))\n",
    "\n",
    "model4.compile(optimizer='adam',\n",
    "               loss='categorical_crossentropy',\n",
    "               metrics=['accuracy'])\n",
    "\n",
    "model4.summary()"
   ]
  },
  {
   "cell_type": "markdown",
   "metadata": {},
   "source": [
    "We trained NN model for 15 epoch:"
   ]
  },
  {
   "cell_type": "code",
   "execution_count": 23,
   "metadata": {
    "colab": {
     "base_uri": "https://localhost:8080/",
     "height": 527
    },
    "id": "J4qeOHeISdan",
    "outputId": "9bb64068-bc15-471e-9312-6b16aade7425"
   },
   "outputs": [
    {
     "name": "stdout",
     "output_type": "stream",
     "text": [
      "Epoch 1/15\n",
      "22/22 [==============================] - 1s 16ms/step - loss: 1.5852 - accuracy: 0.3623 - val_loss: 1.5470 - val_accuracy: 0.4670\n",
      "Epoch 2/15\n",
      "22/22 [==============================] - 0s 7ms/step - loss: 1.5411 - accuracy: 0.3873 - val_loss: 1.4880 - val_accuracy: 0.4670\n",
      "Epoch 3/15\n",
      "22/22 [==============================] - 0s 7ms/step - loss: 1.4889 - accuracy: 0.3844 - val_loss: 1.4166 - val_accuracy: 0.4670\n",
      "Epoch 4/15\n",
      "22/22 [==============================] - 0s 7ms/step - loss: 1.4285 - accuracy: 0.3844 - val_loss: 1.3492 - val_accuracy: 0.4670\n",
      "Epoch 5/15\n",
      "22/22 [==============================] - 0s 7ms/step - loss: 1.3665 - accuracy: 0.3844 - val_loss: 1.2726 - val_accuracy: 0.4670\n",
      "Epoch 6/15\n",
      "22/22 [==============================] - 0s 8ms/step - loss: 1.3026 - accuracy: 0.3844 - val_loss: 1.1906 - val_accuracy: 0.4670\n",
      "Epoch 7/15\n",
      "22/22 [==============================] - 0s 7ms/step - loss: 1.2112 - accuracy: 0.4448 - val_loss: 1.0946 - val_accuracy: 0.5419\n",
      "Epoch 8/15\n",
      "22/22 [==============================] - 0s 7ms/step - loss: 1.0977 - accuracy: 0.5331 - val_loss: 0.9887 - val_accuracy: 0.5683\n",
      "Epoch 9/15\n",
      "22/22 [==============================] - 0s 8ms/step - loss: 0.9999 - accuracy: 0.5670 - val_loss: 0.8922 - val_accuracy: 0.6300\n",
      "Epoch 10/15\n",
      "22/22 [==============================] - 0s 9ms/step - loss: 0.9024 - accuracy: 0.6451 - val_loss: 0.8025 - val_accuracy: 0.6916\n",
      "Epoch 11/15\n",
      "22/22 [==============================] - 0s 8ms/step - loss: 0.8071 - accuracy: 0.7069 - val_loss: 0.7270 - val_accuracy: 0.8062\n",
      "Epoch 12/15\n",
      "22/22 [==============================] - 0s 7ms/step - loss: 0.7444 - accuracy: 0.7865 - val_loss: 0.6643 - val_accuracy: 0.8458\n",
      "Epoch 13/15\n",
      "22/22 [==============================] - 0s 8ms/step - loss: 0.6787 - accuracy: 0.7894 - val_loss: 0.6065 - val_accuracy: 0.8502\n",
      "Epoch 14/15\n",
      "22/22 [==============================] - 0s 6ms/step - loss: 0.5998 - accuracy: 0.8424 - val_loss: 0.5520 - val_accuracy: 0.8634\n",
      "Epoch 15/15\n",
      "22/22 [==============================] - 0s 8ms/step - loss: 0.5317 - accuracy: 0.8498 - val_loss: 0.5004 - val_accuracy: 0.8722\n"
     ]
    }
   ],
   "source": [
    "history_4 = model4.fit(X_train, y_train,\n",
    "                       batch_size=32,\n",
    "                       epochs=15,\n",
    "                       validation_data=(X_test, y_test))"
   ]
  },
  {
   "cell_type": "code",
   "execution_count": 24,
   "metadata": {
    "colab": {
     "base_uri": "https://localhost:8080/",
     "height": 51
    },
    "id": "tf-gE9K5qq0-",
    "outputId": "2e406001-83a5-4cdd-8cd7-c852ee3f6ef3"
   },
   "outputs": [
    {
     "name": "stdout",
     "output_type": "stream",
     "text": [
      "Training Accuracy: 0.8837\n",
      "Testing Accuracy:  0.8722\n"
     ]
    }
   ],
   "source": [
    "loss, accuracy = model4.evaluate(X_train, y_train, verbose=False)\n",
    "print(\"Training Accuracy: {:.4f}\".format(accuracy))\n",
    "loss, accuracy = model4.evaluate(X_test, y_test, verbose=False)\n",
    "print(\"Testing Accuracy:  {:.4f}\".format(accuracy))"
   ]
  },
  {
   "cell_type": "code",
   "execution_count": 25,
   "metadata": {
    "colab": {
     "base_uri": "https://localhost:8080/",
     "height": 541
    },
    "id": "skqAozltquzR",
    "outputId": "027bc033-8e61-4e2e-bd61-b6c0a7236be5"
   },
   "outputs": [
    {
     "data": {
      "image/png": "[encoded data removed]",
      "text/plain": [
       "<Figure size 432x288 with 1 Axes>"
      ]
     },
     "metadata": {
      "needs_background": "light"
     },
     "output_type": "display_data"
    },
    {
     "data": {
      "image/png": "[encoded data removed]",
      "text/plain": [
       "<Figure size 432x288 with 1 Axes>"
      ]
     },
     "metadata": {
      "needs_background": "light"
     },
     "output_type": "display_data"
    }
   ],
   "source": [
    "plot_graphs(history_4, \"accuracy\")\n",
    "plot_graphs(history_4, \"loss\")"
   ]
  },
  {
   "cell_type": "markdown",
   "metadata": {
    "id": "bAT2Y3SjaCjd"
   },
   "source": [
    "**Convolutional Neural Network (CNN)**\n",
    "\n",
    "A simple CNN architecture: Embedding layer with single layer Convolutional Neural Network (with RELU activation), and the GlobalMaxPool1D layer as well. The hidden layer using the ReLU activation function and an output layer using the softmax activation function. We used the Adam optimizer and categorical cross entropy loss as the loss function."
   ]
  },
  {
   "cell_type": "code",
   "execution_count": 26,
   "metadata": {
    "colab": {
     "base_uri": "https://localhost:8080/",
     "height": 323
    },
    "id": "GF0GK9lrquvH",
    "outputId": "b0c5a27b-d038-45b8-a4ef-3c7f0dd978a0"
   },
   "outputs": [
    {
     "name": "stdout",
     "output_type": "stream",
     "text": [
      "Model: \"sequential_4\"\n",
      "_________________________________________________________________\n",
      " Layer (type)                Output Shape              Param #   \n",
      "=================================================================\n",
      " embedding_4 (Embedding)     (None, 100, 50)           225950    \n",
      "                                                                 \n",
      " conv1d (Conv1D)             (None, 96, 128)           32128     \n",
      "                                                                 \n",
      " global_max_pooling1d_2 (Glo  (None, 128)              0         \n",
      " balMaxPooling1D)                                                \n",
      "                                                                 \n",
      " dense_8 (Dense)             (None, 10)                1290      \n",
      "                                                                 \n",
      " dense_9 (Dense)             (None, 5)                 55        \n",
      "                                                                 \n",
      "=================================================================\n",
      "Total params: 259,423\n",
      "Trainable params: 259,423\n",
      "Non-trainable params: 0\n",
      "_________________________________________________________________\n"
     ]
    }
   ],
   "source": [
    "embedding_dim = 50\n",
    "\n",
    "model5 = Sequential()\n",
    "model5.add(Embedding(input_dim=vocab_size, output_dim=embedding_dim, input_length=maxlen))\n",
    "model5.add(Conv1D(128, 5, activation='relu'))\n",
    "model5.add(GlobalMaxPool1D())\n",
    "model5.add(Dense(10, activation='relu'))\n",
    "model5.add(Dense(5, activation='softmax'))\n",
    "\n",
    "model5.compile(optimizer='adam',\n",
    "               loss='categorical_crossentropy',\n",
    "               metrics=['accuracy'])\n",
    "\n",
    "model5.summary()"
   ]
  },
  {
   "cell_type": "markdown",
   "metadata": {},
   "source": [
    "We trained CNN model for 5 epoch:"
   ]
  },
  {
   "cell_type": "code",
   "execution_count": 27,
   "metadata": {
    "colab": {
     "base_uri": "https://localhost:8080/",
     "height": 187
    },
    "id": "QUCJJZbQqusm",
    "outputId": "0169a515-3afc-4ac9-b672-2f3b6cd0ce6b"
   },
   "outputs": [
    {
     "name": "stdout",
     "output_type": "stream",
     "text": [
      "Epoch 1/5\n",
      "68/68 [==============================] - 2s 11ms/step - loss: 1.5775 - accuracy: 0.2563 - val_loss: 1.5053 - val_accuracy: 0.3348\n",
      "Epoch 2/5\n",
      "68/68 [==============================] - 1s 9ms/step - loss: 1.1979 - accuracy: 0.6701 - val_loss: 0.8974 - val_accuracy: 0.7533\n",
      "Epoch 3/5\n",
      "68/68 [==============================] - 1s 10ms/step - loss: 0.5666 - accuracy: 0.8174 - val_loss: 0.4477 - val_accuracy: 0.8767\n",
      "Epoch 4/5\n",
      "68/68 [==============================] - 1s 10ms/step - loss: 0.2322 - accuracy: 0.9588 - val_loss: 0.3049 - val_accuracy: 0.9251\n",
      "Epoch 5/5\n",
      "68/68 [==============================] - 1s 9ms/step - loss: 0.0888 - accuracy: 0.9897 - val_loss: 0.2747 - val_accuracy: 0.9251\n"
     ]
    }
   ],
   "source": [
    "history_5 = model5.fit(X_train, y_train,\n",
    "                       batch_size=10,\n",
    "                       epochs=5,\n",
    "                       validation_data=(X_test, y_test))"
   ]
  },
  {
   "cell_type": "code",
   "execution_count": 28,
   "metadata": {
    "colab": {
     "base_uri": "https://localhost:8080/",
     "height": 51
    },
    "id": "ueVfCA9mquqt",
    "outputId": "dc8cf033-7204-4040-cebf-d4cdad03dea9"
   },
   "outputs": [
    {
     "name": "stdout",
     "output_type": "stream",
     "text": [
      "Training Accuracy: 0.9985\n",
      "Testing Accuracy:  0.9251\n"
     ]
    }
   ],
   "source": [
    "loss, accuracy = model5.evaluate(X_train, y_train, verbose=False)\n",
    "print(\"Training Accuracy: {:.4f}\".format(accuracy))\n",
    "loss, accuracy = model5.evaluate(X_test, y_test, verbose=False)\n",
    "print(\"Testing Accuracy:  {:.4f}\".format(accuracy))"
   ]
  },
  {
   "cell_type": "code",
   "execution_count": 29,
   "metadata": {
    "colab": {
     "base_uri": "https://localhost:8080/",
     "height": 541
    },
    "id": "umUCVe_KaS0C",
    "outputId": "ef41571a-c42b-4a42-95d8-59f01e5bc781"
   },
   "outputs": [
    {
     "data": {
      "image/png": "[encoded data removed]",
      "text/plain": [
       "<Figure size 432x288 with 1 Axes>"
      ]
     },
     "metadata": {
      "needs_background": "light"
     },
     "output_type": "display_data"
    },
    {
     "data": {
      "image/png": "[encoded data removed]",
      "text/plain": [
       "<Figure size 432x288 with 1 Axes>"
      ]
     },
     "metadata": {
      "needs_background": "light"
     },
     "output_type": "display_data"
    }
   ],
   "source": [
    "plot_graphs(history_5, \"accuracy\")\n",
    "plot_graphs(history_5, \"loss\")"
   ]
  },
  {
   "cell_type": "code",
   "execution_count": null,
   "metadata": {
    "id": "LYcp0sGTdB-t"
   },
   "outputs": [],
   "source": []
  }
 ],
 "metadata": {
  "colab": {
   "collapsed_sections": [],
   "name": "Text_nn.ipynb",
   "provenance": []
  },
  "kernelspec": {
   "display_name": "Python 3 (ipykernel)",
   "language": "python",
   "name": "python3"
  },
  "language_info": {
   "codemirror_mode": {
    "name": "ipython",
    "version": 3
   },
   "file_extension": ".py",
   "mimetype": "text/x-python",
   "name": "python",
   "nbconvert_exporter": "python",
   "pygments_lexer": "ipython3",
   "version": "3.9.5"
  }
 },
 "nbformat": 4,
 "nbformat_minor": 1
}
